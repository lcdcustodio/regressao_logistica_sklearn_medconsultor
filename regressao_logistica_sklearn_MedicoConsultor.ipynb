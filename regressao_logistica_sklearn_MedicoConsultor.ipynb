{
  "nbformat": 4,
  "nbformat_minor": 0,
  "metadata": {
    "colab": {
      "name": "regressao_logistica_sklearn_MedicoConsultor.ipynb",
      "provenance": [],
      "authorship_tag": "ABX9TyOLOk/KRR5FjQn+zyiZxG3L",
      "include_colab_link": true
    },
    "kernelspec": {
      "name": "python3",
      "display_name": "Python 3"
    },
    "language_info": {
      "name": "python"
    }
  },
  "cells": [
    {
      "cell_type": "markdown",
      "metadata": {
        "id": "view-in-github",
        "colab_type": "text"
      },
      "source": [
        "<a href=\"https://colab.research.google.com/github/lcdcustodio/regressao_logistica_sklearn_medconsultor/blob/main/regressao_logistica_sklearn_MedicoConsultor.ipynb\" target=\"_parent\"><img src=\"https://colab.research.google.com/assets/colab-badge.svg\" alt=\"Open In Colab\"/></a>"
      ]
    },
    {
      "cell_type": "code",
      "metadata": {
        "id": "bMAmt8EoQNqQ"
      },
      "source": [
        "import pandas as pd\n",
        "base = pd.read_csv('mc_itaim_rev07.csv')"
      ],
      "execution_count": 139,
      "outputs": []
    },
    {
      "cell_type": "code",
      "metadata": {
        "colab": {
          "base_uri": "https://localhost:8080/",
          "height": 310
        },
        "id": "UsLMSgatSD2t",
        "outputId": "12277f21-10a6-46d6-c91d-0ffb800c14f2"
      },
      "source": [
        "base.head()"
      ],
      "execution_count": 140,
      "outputs": [
        {
          "output_type": "execute_result",
          "data": {
            "text/html": [
              "<div>\n",
              "<style scoped>\n",
              "    .dataframe tbody tr th:only-of-type {\n",
              "        vertical-align: middle;\n",
              "    }\n",
              "\n",
              "    .dataframe tbody tr th {\n",
              "        vertical-align: top;\n",
              "    }\n",
              "\n",
              "    .dataframe thead th {\n",
              "        text-align: right;\n",
              "    }\n",
              "</style>\n",
              "<table border=\"1\" class=\"dataframe\">\n",
              "  <thead>\n",
              "    <tr style=\"text-align: right;\">\n",
              "      <th></th>\n",
              "      <th>Idade</th>\n",
              "      <th>Tipo</th>\n",
              "      <th>Hospital</th>\n",
              "      <th>Procedimento Principal</th>\n",
              "      <th>CID</th>\n",
              "      <th>IMC</th>\n",
              "      <th>Dias Internado</th>\n",
              "    </tr>\n",
              "  </thead>\n",
              "  <tbody>\n",
              "    <tr>\n",
              "      <th>0</th>\n",
              "      <td>70</td>\n",
              "      <td>Eletivo</td>\n",
              "      <td>ITAIM</td>\n",
              "      <td>-</td>\n",
              "      <td>Z00 - Exame geral e investigacao de pessoas se...</td>\n",
              "      <td>24.9</td>\n",
              "      <td>X &lt; 5 dias</td>\n",
              "    </tr>\n",
              "    <tr>\n",
              "      <th>1</th>\n",
              "      <td>42</td>\n",
              "      <td>Eletivo</td>\n",
              "      <td>ITAIM</td>\n",
              "      <td>30733049 - Osteocondroplastia - estabilizacao ...</td>\n",
              "      <td>Z00 - Exame geral e investigacao de pessoas se...</td>\n",
              "      <td>42.3</td>\n",
              "      <td>X &lt; 5 dias</td>\n",
              "    </tr>\n",
              "    <tr>\n",
              "      <th>2</th>\n",
              "      <td>47</td>\n",
              "      <td>Eletivo</td>\n",
              "      <td>ITAIM</td>\n",
              "      <td>31102077 - Colocacao ureteroscopica de duplo J...</td>\n",
              "      <td>N99 - Transtornos do trato geniturinario pos-p...</td>\n",
              "      <td>22.0</td>\n",
              "      <td>X &lt; 5 dias</td>\n",
              "    </tr>\n",
              "    <tr>\n",
              "      <th>3</th>\n",
              "      <td>53</td>\n",
              "      <td>Eletivo</td>\n",
              "      <td>ITAIM</td>\n",
              "      <td>30602300 - Resseccao dos ductos principais da ...</td>\n",
              "      <td>Z48 - Outro seguimento cirurgico</td>\n",
              "      <td>24.2</td>\n",
              "      <td>X &lt; 5 dias</td>\n",
              "    </tr>\n",
              "    <tr>\n",
              "      <th>4</th>\n",
              "      <td>40</td>\n",
              "      <td>Urgencia</td>\n",
              "      <td>ITAIM</td>\n",
              "      <td>31309020 - Aspiracao manual intra-uterina (AMI...</td>\n",
              "      <td>O034 - Aborto espontaneo - incompleto  sem com...</td>\n",
              "      <td>26.3</td>\n",
              "      <td>X &lt; 5 dias</td>\n",
              "    </tr>\n",
              "  </tbody>\n",
              "</table>\n",
              "</div>"
            ],
            "text/plain": [
              "   Idade      Tipo  ...   IMC Dias Internado\n",
              "0     70   Eletivo  ...  24.9     X < 5 dias\n",
              "1     42   Eletivo  ...  42.3     X < 5 dias\n",
              "2     47   Eletivo  ...  22.0     X < 5 dias\n",
              "3     53   Eletivo  ...  24.2     X < 5 dias\n",
              "4     40  Urgencia  ...  26.3     X < 5 dias\n",
              "\n",
              "[5 rows x 7 columns]"
            ]
          },
          "metadata": {},
          "execution_count": 140
        }
      ]
    },
    {
      "cell_type": "code",
      "metadata": {
        "colab": {
          "base_uri": "https://localhost:8080/"
        },
        "id": "MitOxRQ-_Qja",
        "outputId": "89322480-dd54-49d5-9a1c-d1ff63b534aa"
      },
      "source": [
        "base['Dias Internado'].unique()"
      ],
      "execution_count": 141,
      "outputs": [
        {
          "output_type": "execute_result",
          "data": {
            "text/plain": [
              "array(['X < 5 dias', 'X > 5 dias'], dtype=object)"
            ]
          },
          "metadata": {},
          "execution_count": 141
        }
      ]
    },
    {
      "cell_type": "code",
      "metadata": {
        "colab": {
          "base_uri": "https://localhost:8080/"
        },
        "id": "7pQsA6l1_Zcy",
        "outputId": "c40f37be-775f-464c-ba6e-c31944a60139"
      },
      "source": [
        "base.shape"
      ],
      "execution_count": 142,
      "outputs": [
        {
          "output_type": "execute_result",
          "data": {
            "text/plain": [
              "(474, 7)"
            ]
          },
          "metadata": {},
          "execution_count": 142
        }
      ]
    },
    {
      "cell_type": "code",
      "metadata": {
        "id": "ZMZwPXiRADkG"
      },
      "source": [
        "X = base.iloc[:, 0:6].values\n",
        "y = base.iloc[:, 6].values"
      ],
      "execution_count": 143,
      "outputs": []
    },
    {
      "cell_type": "code",
      "metadata": {
        "colab": {
          "base_uri": "https://localhost:8080/"
        },
        "id": "gZ_zcgJYAOby",
        "outputId": "ba79d9be-b086-4231-cdf1-63b4ab129123"
      },
      "source": [
        "X"
      ],
      "execution_count": 144,
      "outputs": [
        {
          "output_type": "execute_result",
          "data": {
            "text/plain": [
              "array([[70, 'Eletivo', 'ITAIM', '-',\n",
              "        'Z00 - Exame geral e investigacao de pessoas sem queixas ou diagnostico relatado',\n",
              "        24.9],\n",
              "       [42, 'Eletivo', 'ITAIM',\n",
              "        '30733049 - Osteocondroplastia - estabilizacao  resseccao e/ou plastia  - procedimento videoartroscopico de joelho',\n",
              "        'Z00 - Exame geral e investigacao de pessoas sem queixas ou diagnostico relatado',\n",
              "        42.3],\n",
              "       [47, 'Eletivo', 'ITAIM',\n",
              "        '31102077 - Colocacao ureteroscopica de duplo J unilateral',\n",
              "        'N99 - Transtornos do trato geniturinario pos-procedimentos nao classificados em outra parte',\n",
              "        22.0],\n",
              "       ...,\n",
              "       [62, 'Eletivo', 'ITAIM', '-',\n",
              "        'Z00 - Exame geral e investigacao de pessoas sem queixas ou diagnostico relatado',\n",
              "        27.0],\n",
              "       [81, 'Eletivo', 'ITAIM',\n",
              "        '30912024 - Angioplastia transluminal da aorta ou ramos ou da arteria pulmonar e ramos (por vaso)',\n",
              "        'Z00 - Exame geral e investigacao de pessoas sem queixas ou diagnostico relatado',\n",
              "        25.1],\n",
              "       [53, 'Eletivo', 'ITAIM',\n",
              "        '31005101 - Colecistectomia com colangiografia',\n",
              "        'Z00 - Exame geral e investigacao de pessoas sem queixas ou diagnostico relatado',\n",
              "        22.6]], dtype=object)"
            ]
          },
          "metadata": {},
          "execution_count": 144
        }
      ]
    },
    {
      "cell_type": "code",
      "metadata": {
        "colab": {
          "base_uri": "https://localhost:8080/"
        },
        "id": "6_x3l14QATAc",
        "outputId": "85194a07-ad13-470f-ed20-c7cf85af5432"
      },
      "source": [
        "y"
      ],
      "execution_count": 145,
      "outputs": [
        {
          "output_type": "execute_result",
          "data": {
            "text/plain": [
              "array(['X < 5 dias', 'X < 5 dias', 'X < 5 dias', 'X < 5 dias',\n",
              "       'X < 5 dias', 'X > 5 dias', 'X > 5 dias', 'X > 5 dias',\n",
              "       'X > 5 dias', 'X < 5 dias', 'X < 5 dias', 'X < 5 dias',\n",
              "       'X < 5 dias', 'X > 5 dias', 'X < 5 dias', 'X > 5 dias',\n",
              "       'X > 5 dias', 'X < 5 dias', 'X < 5 dias', 'X < 5 dias',\n",
              "       'X < 5 dias', 'X < 5 dias', 'X > 5 dias', 'X > 5 dias',\n",
              "       'X < 5 dias', 'X > 5 dias', 'X > 5 dias', 'X < 5 dias',\n",
              "       'X < 5 dias', 'X < 5 dias', 'X < 5 dias', 'X > 5 dias',\n",
              "       'X < 5 dias', 'X < 5 dias', 'X < 5 dias', 'X < 5 dias',\n",
              "       'X < 5 dias', 'X < 5 dias', 'X < 5 dias', 'X < 5 dias',\n",
              "       'X < 5 dias', 'X < 5 dias', 'X < 5 dias', 'X > 5 dias',\n",
              "       'X < 5 dias', 'X < 5 dias', 'X > 5 dias', 'X > 5 dias',\n",
              "       'X > 5 dias', 'X < 5 dias', 'X < 5 dias', 'X < 5 dias',\n",
              "       'X < 5 dias', 'X < 5 dias', 'X > 5 dias', 'X < 5 dias',\n",
              "       'X > 5 dias', 'X < 5 dias', 'X > 5 dias', 'X < 5 dias',\n",
              "       'X < 5 dias', 'X < 5 dias', 'X < 5 dias', 'X < 5 dias',\n",
              "       'X > 5 dias', 'X < 5 dias', 'X > 5 dias', 'X < 5 dias',\n",
              "       'X < 5 dias', 'X < 5 dias', 'X < 5 dias', 'X < 5 dias',\n",
              "       'X > 5 dias', 'X < 5 dias', 'X < 5 dias', 'X < 5 dias',\n",
              "       'X < 5 dias', 'X < 5 dias', 'X < 5 dias', 'X < 5 dias',\n",
              "       'X > 5 dias', 'X > 5 dias', 'X < 5 dias', 'X > 5 dias',\n",
              "       'X > 5 dias', 'X > 5 dias', 'X < 5 dias', 'X > 5 dias',\n",
              "       'X < 5 dias', 'X < 5 dias', 'X < 5 dias', 'X < 5 dias',\n",
              "       'X < 5 dias', 'X < 5 dias', 'X < 5 dias', 'X > 5 dias',\n",
              "       'X < 5 dias', 'X < 5 dias', 'X < 5 dias', 'X < 5 dias',\n",
              "       'X > 5 dias', 'X > 5 dias', 'X < 5 dias', 'X < 5 dias',\n",
              "       'X < 5 dias', 'X < 5 dias', 'X < 5 dias', 'X < 5 dias',\n",
              "       'X < 5 dias', 'X > 5 dias', 'X > 5 dias', 'X < 5 dias',\n",
              "       'X < 5 dias', 'X < 5 dias', 'X < 5 dias', 'X > 5 dias',\n",
              "       'X < 5 dias', 'X < 5 dias', 'X < 5 dias', 'X < 5 dias',\n",
              "       'X > 5 dias', 'X < 5 dias', 'X > 5 dias', 'X < 5 dias',\n",
              "       'X < 5 dias', 'X < 5 dias', 'X < 5 dias', 'X < 5 dias',\n",
              "       'X < 5 dias', 'X < 5 dias', 'X < 5 dias', 'X > 5 dias',\n",
              "       'X < 5 dias', 'X < 5 dias', 'X < 5 dias', 'X < 5 dias',\n",
              "       'X > 5 dias', 'X < 5 dias', 'X > 5 dias', 'X < 5 dias',\n",
              "       'X < 5 dias', 'X < 5 dias', 'X < 5 dias', 'X < 5 dias',\n",
              "       'X > 5 dias', 'X > 5 dias', 'X > 5 dias', 'X < 5 dias',\n",
              "       'X > 5 dias', 'X < 5 dias', 'X < 5 dias', 'X < 5 dias',\n",
              "       'X > 5 dias', 'X > 5 dias', 'X > 5 dias', 'X > 5 dias',\n",
              "       'X > 5 dias', 'X < 5 dias', 'X > 5 dias', 'X < 5 dias',\n",
              "       'X < 5 dias', 'X < 5 dias', 'X < 5 dias', 'X < 5 dias',\n",
              "       'X < 5 dias', 'X < 5 dias', 'X < 5 dias', 'X < 5 dias',\n",
              "       'X < 5 dias', 'X < 5 dias', 'X < 5 dias', 'X < 5 dias',\n",
              "       'X < 5 dias', 'X < 5 dias', 'X < 5 dias', 'X < 5 dias',\n",
              "       'X < 5 dias', 'X < 5 dias', 'X > 5 dias', 'X < 5 dias',\n",
              "       'X < 5 dias', 'X < 5 dias', 'X > 5 dias', 'X < 5 dias',\n",
              "       'X < 5 dias', 'X < 5 dias', 'X > 5 dias', 'X > 5 dias',\n",
              "       'X < 5 dias', 'X > 5 dias', 'X < 5 dias', 'X < 5 dias',\n",
              "       'X < 5 dias', 'X < 5 dias', 'X < 5 dias', 'X < 5 dias',\n",
              "       'X < 5 dias', 'X < 5 dias', 'X < 5 dias', 'X < 5 dias',\n",
              "       'X < 5 dias', 'X < 5 dias', 'X < 5 dias', 'X > 5 dias',\n",
              "       'X < 5 dias', 'X < 5 dias', 'X < 5 dias', 'X < 5 dias',\n",
              "       'X < 5 dias', 'X > 5 dias', 'X < 5 dias', 'X < 5 dias',\n",
              "       'X > 5 dias', 'X < 5 dias', 'X > 5 dias', 'X < 5 dias',\n",
              "       'X < 5 dias', 'X < 5 dias', 'X < 5 dias', 'X < 5 dias',\n",
              "       'X < 5 dias', 'X < 5 dias', 'X < 5 dias', 'X < 5 dias',\n",
              "       'X < 5 dias', 'X > 5 dias', 'X < 5 dias', 'X < 5 dias',\n",
              "       'X > 5 dias', 'X < 5 dias', 'X < 5 dias', 'X < 5 dias',\n",
              "       'X > 5 dias', 'X > 5 dias', 'X < 5 dias', 'X < 5 dias',\n",
              "       'X < 5 dias', 'X < 5 dias', 'X < 5 dias', 'X < 5 dias',\n",
              "       'X < 5 dias', 'X < 5 dias', 'X < 5 dias', 'X < 5 dias',\n",
              "       'X < 5 dias', 'X > 5 dias', 'X < 5 dias', 'X > 5 dias',\n",
              "       'X < 5 dias', 'X < 5 dias', 'X < 5 dias', 'X < 5 dias',\n",
              "       'X > 5 dias', 'X < 5 dias', 'X < 5 dias', 'X < 5 dias',\n",
              "       'X < 5 dias', 'X < 5 dias', 'X < 5 dias', 'X < 5 dias',\n",
              "       'X < 5 dias', 'X < 5 dias', 'X < 5 dias', 'X < 5 dias',\n",
              "       'X < 5 dias', 'X > 5 dias', 'X < 5 dias', 'X > 5 dias',\n",
              "       'X < 5 dias', 'X > 5 dias', 'X > 5 dias', 'X > 5 dias',\n",
              "       'X > 5 dias', 'X < 5 dias', 'X < 5 dias', 'X < 5 dias',\n",
              "       'X < 5 dias', 'X < 5 dias', 'X < 5 dias', 'X < 5 dias',\n",
              "       'X < 5 dias', 'X > 5 dias', 'X < 5 dias', 'X > 5 dias',\n",
              "       'X > 5 dias', 'X < 5 dias', 'X < 5 dias', 'X < 5 dias',\n",
              "       'X < 5 dias', 'X > 5 dias', 'X < 5 dias', 'X > 5 dias',\n",
              "       'X < 5 dias', 'X < 5 dias', 'X < 5 dias', 'X > 5 dias',\n",
              "       'X < 5 dias', 'X < 5 dias', 'X < 5 dias', 'X < 5 dias',\n",
              "       'X > 5 dias', 'X < 5 dias', 'X < 5 dias', 'X < 5 dias',\n",
              "       'X < 5 dias', 'X > 5 dias', 'X < 5 dias', 'X < 5 dias',\n",
              "       'X < 5 dias', 'X < 5 dias', 'X < 5 dias', 'X < 5 dias',\n",
              "       'X < 5 dias', 'X < 5 dias', 'X < 5 dias', 'X < 5 dias',\n",
              "       'X < 5 dias', 'X < 5 dias', 'X < 5 dias', 'X < 5 dias',\n",
              "       'X < 5 dias', 'X > 5 dias', 'X < 5 dias', 'X < 5 dias',\n",
              "       'X < 5 dias', 'X < 5 dias', 'X < 5 dias', 'X > 5 dias',\n",
              "       'X < 5 dias', 'X < 5 dias', 'X < 5 dias', 'X < 5 dias',\n",
              "       'X < 5 dias', 'X < 5 dias', 'X < 5 dias', 'X < 5 dias',\n",
              "       'X < 5 dias', 'X < 5 dias', 'X < 5 dias', 'X < 5 dias',\n",
              "       'X < 5 dias', 'X < 5 dias', 'X < 5 dias', 'X < 5 dias',\n",
              "       'X < 5 dias', 'X < 5 dias', 'X < 5 dias', 'X > 5 dias',\n",
              "       'X < 5 dias', 'X > 5 dias', 'X < 5 dias', 'X < 5 dias',\n",
              "       'X < 5 dias', 'X < 5 dias', 'X < 5 dias', 'X < 5 dias',\n",
              "       'X < 5 dias', 'X < 5 dias', 'X < 5 dias', 'X < 5 dias',\n",
              "       'X < 5 dias', 'X < 5 dias', 'X < 5 dias', 'X < 5 dias',\n",
              "       'X < 5 dias', 'X < 5 dias', 'X < 5 dias', 'X < 5 dias',\n",
              "       'X > 5 dias', 'X < 5 dias', 'X < 5 dias', 'X < 5 dias',\n",
              "       'X < 5 dias', 'X < 5 dias', 'X < 5 dias', 'X < 5 dias',\n",
              "       'X < 5 dias', 'X < 5 dias', 'X < 5 dias', 'X < 5 dias',\n",
              "       'X < 5 dias', 'X > 5 dias', 'X < 5 dias', 'X > 5 dias',\n",
              "       'X < 5 dias', 'X < 5 dias', 'X < 5 dias', 'X < 5 dias',\n",
              "       'X > 5 dias', 'X < 5 dias', 'X > 5 dias', 'X > 5 dias',\n",
              "       'X > 5 dias', 'X < 5 dias', 'X < 5 dias', 'X < 5 dias',\n",
              "       'X < 5 dias', 'X < 5 dias', 'X < 5 dias', 'X < 5 dias',\n",
              "       'X > 5 dias', 'X < 5 dias', 'X > 5 dias', 'X < 5 dias',\n",
              "       'X < 5 dias', 'X > 5 dias', 'X < 5 dias', 'X > 5 dias',\n",
              "       'X < 5 dias', 'X > 5 dias', 'X < 5 dias', 'X > 5 dias',\n",
              "       'X < 5 dias', 'X < 5 dias', 'X < 5 dias', 'X < 5 dias',\n",
              "       'X < 5 dias', 'X < 5 dias', 'X < 5 dias', 'X > 5 dias',\n",
              "       'X < 5 dias', 'X < 5 dias', 'X > 5 dias', 'X > 5 dias',\n",
              "       'X < 5 dias', 'X < 5 dias', 'X < 5 dias', 'X < 5 dias',\n",
              "       'X < 5 dias', 'X < 5 dias', 'X < 5 dias', 'X < 5 dias',\n",
              "       'X > 5 dias', 'X < 5 dias', 'X < 5 dias', 'X < 5 dias',\n",
              "       'X < 5 dias', 'X < 5 dias', 'X < 5 dias', 'X < 5 dias',\n",
              "       'X < 5 dias', 'X > 5 dias', 'X < 5 dias', 'X < 5 dias',\n",
              "       'X < 5 dias', 'X < 5 dias', 'X > 5 dias', 'X < 5 dias',\n",
              "       'X < 5 dias', 'X > 5 dias', 'X < 5 dias', 'X < 5 dias',\n",
              "       'X < 5 dias', 'X < 5 dias', 'X < 5 dias', 'X > 5 dias',\n",
              "       'X > 5 dias', 'X < 5 dias', 'X > 5 dias', 'X < 5 dias',\n",
              "       'X < 5 dias', 'X < 5 dias', 'X < 5 dias', 'X > 5 dias',\n",
              "       'X > 5 dias', 'X < 5 dias', 'X < 5 dias', 'X < 5 dias',\n",
              "       'X < 5 dias', 'X > 5 dias', 'X < 5 dias', 'X < 5 dias',\n",
              "       'X < 5 dias', 'X < 5 dias'], dtype=object)"
            ]
          },
          "metadata": {},
          "execution_count": 145
        }
      ]
    },
    {
      "cell_type": "code",
      "metadata": {
        "colab": {
          "base_uri": "https://localhost:8080/"
        },
        "id": "ecQYHmyZAlmf",
        "outputId": "c7ea02ec-f9f2-4aad-a08d-191ca643b6fa"
      },
      "source": [
        "X[0]"
      ],
      "execution_count": 146,
      "outputs": [
        {
          "output_type": "execute_result",
          "data": {
            "text/plain": [
              "array([70, 'Eletivo', 'ITAIM', '-',\n",
              "       'Z00 - Exame geral e investigacao de pessoas sem queixas ou diagnostico relatado',\n",
              "       24.9], dtype=object)"
            ]
          },
          "metadata": {},
          "execution_count": 146
        }
      ]
    },
    {
      "cell_type": "code",
      "metadata": {
        "id": "yZMtVpefAtZY"
      },
      "source": [
        "from sklearn.preprocessing import LabelEncoder\n",
        "label_encoder = LabelEncoder()\n",
        "X[:,1] = label_encoder.fit_transform(X[:,1])\n",
        "X[:,2] = label_encoder.fit_transform(X[:,2])\n",
        "X[:,3] = label_encoder.fit_transform(X[:,3])\n",
        "X[:,4] = label_encoder.fit_transform(X[:,4])"
      ],
      "execution_count": 147,
      "outputs": []
    },
    {
      "cell_type": "code",
      "metadata": {
        "colab": {
          "base_uri": "https://localhost:8080/"
        },
        "id": "VP4EMhsHA_zl",
        "outputId": "9bdd85fc-ba22-4f6d-9889-3eca37565edb"
      },
      "source": [
        "X[0]"
      ],
      "execution_count": 148,
      "outputs": [
        {
          "output_type": "execute_result",
          "data": {
            "text/plain": [
              "array([70, 0, 0, 0, 154, 24.9], dtype=object)"
            ]
          },
          "metadata": {},
          "execution_count": 148
        }
      ]
    },
    {
      "cell_type": "code",
      "metadata": {
        "id": "LG05TE9lBGRI"
      },
      "source": [
        "from sklearn.model_selection import train_test_split\n",
        "X_treinamento, X_teste, y_treinamento, y_teste = train_test_split(X, y, test_size = 0.3)"
      ],
      "execution_count": 149,
      "outputs": []
    },
    {
      "cell_type": "code",
      "metadata": {
        "colab": {
          "base_uri": "https://localhost:8080/"
        },
        "id": "Dc7NWaAnBWbu",
        "outputId": "2f397f22-d579-44aa-999b-5510e794e343"
      },
      "source": [
        "X_treinamento.shape"
      ],
      "execution_count": 150,
      "outputs": [
        {
          "output_type": "execute_result",
          "data": {
            "text/plain": [
              "(331, 6)"
            ]
          },
          "metadata": {},
          "execution_count": 150
        }
      ]
    },
    {
      "cell_type": "code",
      "metadata": {
        "colab": {
          "base_uri": "https://localhost:8080/"
        },
        "id": "2hSeZxQfBlmI",
        "outputId": "d29fa8c1-93a8-4c3e-cfe1-a3455aed370f"
      },
      "source": [
        "y_treinamento.shape"
      ],
      "execution_count": 151,
      "outputs": [
        {
          "output_type": "execute_result",
          "data": {
            "text/plain": [
              "(331,)"
            ]
          },
          "metadata": {},
          "execution_count": 151
        }
      ]
    },
    {
      "cell_type": "code",
      "metadata": {
        "colab": {
          "base_uri": "https://localhost:8080/"
        },
        "id": "6QTC1C0MBptw",
        "outputId": "5b656f5e-311a-4596-b8c0-05df4b2993cc"
      },
      "source": [
        "X_teste.shape"
      ],
      "execution_count": 152,
      "outputs": [
        {
          "output_type": "execute_result",
          "data": {
            "text/plain": [
              "(143, 6)"
            ]
          },
          "metadata": {},
          "execution_count": 152
        }
      ]
    },
    {
      "cell_type": "code",
      "metadata": {
        "colab": {
          "base_uri": "https://localhost:8080/"
        },
        "id": "Ekfkz16hB2Ns",
        "outputId": "305b433e-6917-4c3b-86bc-546671a94449"
      },
      "source": [
        "y_teste.shape"
      ],
      "execution_count": 153,
      "outputs": [
        {
          "output_type": "execute_result",
          "data": {
            "text/plain": [
              "(143,)"
            ]
          },
          "metadata": {},
          "execution_count": 153
        }
      ]
    },
    {
      "cell_type": "code",
      "metadata": {
        "colab": {
          "base_uri": "https://localhost:8080/"
        },
        "id": "W8q-ET9oB35E",
        "outputId": "77c1773e-14d0-4d2f-fb99-0d42c195fe45"
      },
      "source": [
        "from sklearn.linear_model import LogisticRegression\n",
        "classificador = LogisticRegression(max_iter = 10000)\n",
        "classificador.fit(X_treinamento, y_treinamento)"
      ],
      "execution_count": 154,
      "outputs": [
        {
          "output_type": "execute_result",
          "data": {
            "text/plain": [
              "LogisticRegression(max_iter=10000)"
            ]
          },
          "metadata": {},
          "execution_count": 154
        }
      ]
    },
    {
      "cell_type": "code",
      "metadata": {
        "id": "Yd4kVpObCOWu"
      },
      "source": [
        "previsoes = classificador.predict(X_teste)"
      ],
      "execution_count": 155,
      "outputs": []
    },
    {
      "cell_type": "code",
      "metadata": {
        "colab": {
          "base_uri": "https://localhost:8080/"
        },
        "id": "1LGpJiH6CUsd",
        "outputId": "da0e629c-b4c6-4e5e-d466-7511f81d0e0a"
      },
      "source": [
        "previsoes"
      ],
      "execution_count": 156,
      "outputs": [
        {
          "output_type": "execute_result",
          "data": {
            "text/plain": [
              "array(['X < 5 dias', 'X < 5 dias', 'X < 5 dias', 'X > 5 dias',\n",
              "       'X > 5 dias', 'X < 5 dias', 'X < 5 dias', 'X < 5 dias',\n",
              "       'X > 5 dias', 'X < 5 dias', 'X < 5 dias', 'X < 5 dias',\n",
              "       'X < 5 dias', 'X < 5 dias', 'X < 5 dias', 'X < 5 dias',\n",
              "       'X < 5 dias', 'X < 5 dias', 'X < 5 dias', 'X > 5 dias',\n",
              "       'X < 5 dias', 'X < 5 dias', 'X < 5 dias', 'X > 5 dias',\n",
              "       'X < 5 dias', 'X < 5 dias', 'X < 5 dias', 'X < 5 dias',\n",
              "       'X < 5 dias', 'X < 5 dias', 'X < 5 dias', 'X < 5 dias',\n",
              "       'X < 5 dias', 'X < 5 dias', 'X < 5 dias', 'X < 5 dias',\n",
              "       'X < 5 dias', 'X < 5 dias', 'X > 5 dias', 'X < 5 dias',\n",
              "       'X < 5 dias', 'X < 5 dias', 'X < 5 dias', 'X < 5 dias',\n",
              "       'X < 5 dias', 'X < 5 dias', 'X < 5 dias', 'X < 5 dias',\n",
              "       'X < 5 dias', 'X > 5 dias', 'X < 5 dias', 'X < 5 dias',\n",
              "       'X < 5 dias', 'X > 5 dias', 'X < 5 dias', 'X < 5 dias',\n",
              "       'X < 5 dias', 'X < 5 dias', 'X < 5 dias', 'X < 5 dias',\n",
              "       'X < 5 dias', 'X < 5 dias', 'X < 5 dias', 'X < 5 dias',\n",
              "       'X < 5 dias', 'X < 5 dias', 'X < 5 dias', 'X < 5 dias',\n",
              "       'X < 5 dias', 'X > 5 dias', 'X < 5 dias', 'X < 5 dias',\n",
              "       'X < 5 dias', 'X < 5 dias', 'X > 5 dias', 'X < 5 dias',\n",
              "       'X < 5 dias', 'X < 5 dias', 'X < 5 dias', 'X < 5 dias',\n",
              "       'X < 5 dias', 'X < 5 dias', 'X < 5 dias', 'X < 5 dias',\n",
              "       'X < 5 dias', 'X < 5 dias', 'X < 5 dias', 'X < 5 dias',\n",
              "       'X < 5 dias', 'X < 5 dias', 'X < 5 dias', 'X < 5 dias',\n",
              "       'X > 5 dias', 'X < 5 dias', 'X < 5 dias', 'X < 5 dias',\n",
              "       'X < 5 dias', 'X < 5 dias', 'X < 5 dias', 'X < 5 dias',\n",
              "       'X > 5 dias', 'X < 5 dias', 'X < 5 dias', 'X < 5 dias',\n",
              "       'X < 5 dias', 'X < 5 dias', 'X < 5 dias', 'X < 5 dias',\n",
              "       'X > 5 dias', 'X < 5 dias', 'X < 5 dias', 'X < 5 dias',\n",
              "       'X < 5 dias', 'X < 5 dias', 'X < 5 dias', 'X < 5 dias',\n",
              "       'X > 5 dias', 'X < 5 dias', 'X < 5 dias', 'X < 5 dias',\n",
              "       'X < 5 dias', 'X < 5 dias', 'X < 5 dias', 'X < 5 dias',\n",
              "       'X < 5 dias', 'X < 5 dias', 'X > 5 dias', 'X < 5 dias',\n",
              "       'X < 5 dias', 'X < 5 dias', 'X < 5 dias', 'X < 5 dias',\n",
              "       'X > 5 dias', 'X < 5 dias', 'X < 5 dias', 'X < 5 dias',\n",
              "       'X > 5 dias', 'X < 5 dias', 'X < 5 dias', 'X < 5 dias',\n",
              "       'X < 5 dias', 'X < 5 dias', 'X < 5 dias'], dtype=object)"
            ]
          },
          "metadata": {},
          "execution_count": 156
        }
      ]
    },
    {
      "cell_type": "code",
      "metadata": {
        "colab": {
          "base_uri": "https://localhost:8080/"
        },
        "id": "Pq4Y1Zu5Cc69",
        "outputId": "b89a5638-3d3f-4e4c-b77f-fc6b411ad33d"
      },
      "source": [
        "y_teste"
      ],
      "execution_count": 157,
      "outputs": [
        {
          "output_type": "execute_result",
          "data": {
            "text/plain": [
              "array(['X < 5 dias', 'X < 5 dias', 'X < 5 dias', 'X > 5 dias',\n",
              "       'X < 5 dias', 'X > 5 dias', 'X > 5 dias', 'X < 5 dias',\n",
              "       'X > 5 dias', 'X > 5 dias', 'X < 5 dias', 'X < 5 dias',\n",
              "       'X < 5 dias', 'X > 5 dias', 'X < 5 dias', 'X < 5 dias',\n",
              "       'X < 5 dias', 'X > 5 dias', 'X < 5 dias', 'X < 5 dias',\n",
              "       'X < 5 dias', 'X < 5 dias', 'X > 5 dias', 'X > 5 dias',\n",
              "       'X < 5 dias', 'X < 5 dias', 'X > 5 dias', 'X < 5 dias',\n",
              "       'X < 5 dias', 'X < 5 dias', 'X < 5 dias', 'X < 5 dias',\n",
              "       'X < 5 dias', 'X < 5 dias', 'X < 5 dias', 'X < 5 dias',\n",
              "       'X < 5 dias', 'X < 5 dias', 'X > 5 dias', 'X < 5 dias',\n",
              "       'X < 5 dias', 'X < 5 dias', 'X < 5 dias', 'X < 5 dias',\n",
              "       'X < 5 dias', 'X < 5 dias', 'X < 5 dias', 'X > 5 dias',\n",
              "       'X > 5 dias', 'X > 5 dias', 'X < 5 dias', 'X > 5 dias',\n",
              "       'X < 5 dias', 'X > 5 dias', 'X < 5 dias', 'X < 5 dias',\n",
              "       'X < 5 dias', 'X > 5 dias', 'X < 5 dias', 'X < 5 dias',\n",
              "       'X < 5 dias', 'X < 5 dias', 'X > 5 dias', 'X > 5 dias',\n",
              "       'X < 5 dias', 'X < 5 dias', 'X < 5 dias', 'X < 5 dias',\n",
              "       'X < 5 dias', 'X < 5 dias', 'X < 5 dias', 'X < 5 dias',\n",
              "       'X < 5 dias', 'X < 5 dias', 'X > 5 dias', 'X > 5 dias',\n",
              "       'X > 5 dias', 'X < 5 dias', 'X < 5 dias', 'X < 5 dias',\n",
              "       'X < 5 dias', 'X < 5 dias', 'X < 5 dias', 'X < 5 dias',\n",
              "       'X < 5 dias', 'X < 5 dias', 'X < 5 dias', 'X < 5 dias',\n",
              "       'X < 5 dias', 'X > 5 dias', 'X > 5 dias', 'X < 5 dias',\n",
              "       'X > 5 dias', 'X < 5 dias', 'X < 5 dias', 'X < 5 dias',\n",
              "       'X < 5 dias', 'X < 5 dias', 'X < 5 dias', 'X < 5 dias',\n",
              "       'X > 5 dias', 'X < 5 dias', 'X < 5 dias', 'X < 5 dias',\n",
              "       'X < 5 dias', 'X < 5 dias', 'X < 5 dias', 'X < 5 dias',\n",
              "       'X > 5 dias', 'X < 5 dias', 'X < 5 dias', 'X < 5 dias',\n",
              "       'X < 5 dias', 'X < 5 dias', 'X < 5 dias', 'X < 5 dias',\n",
              "       'X < 5 dias', 'X < 5 dias', 'X < 5 dias', 'X > 5 dias',\n",
              "       'X < 5 dias', 'X < 5 dias', 'X > 5 dias', 'X < 5 dias',\n",
              "       'X < 5 dias', 'X < 5 dias', 'X > 5 dias', 'X > 5 dias',\n",
              "       'X < 5 dias', 'X < 5 dias', 'X > 5 dias', 'X < 5 dias',\n",
              "       'X > 5 dias', 'X < 5 dias', 'X > 5 dias', 'X < 5 dias',\n",
              "       'X > 5 dias', 'X < 5 dias', 'X < 5 dias', 'X < 5 dias',\n",
              "       'X < 5 dias', 'X < 5 dias', 'X < 5 dias'], dtype=object)"
            ]
          },
          "metadata": {},
          "execution_count": 157
        }
      ]
    },
    {
      "cell_type": "code",
      "metadata": {
        "colab": {
          "base_uri": "https://localhost:8080/"
        },
        "id": "FrxcmsiqCozL",
        "outputId": "248c42e8-ef69-4145-a9df-2517b3545819"
      },
      "source": [
        "from sklearn.metrics import accuracy_score\n",
        "taxa_acerto = accuracy_score(y_teste, previsoes)\n",
        "taxa_acerto"
      ],
      "execution_count": 158,
      "outputs": [
        {
          "output_type": "execute_result",
          "data": {
            "text/plain": [
              "0.8181818181818182"
            ]
          },
          "metadata": {},
          "execution_count": 158
        }
      ]
    },
    {
      "cell_type": "code",
      "metadata": {
        "colab": {
          "base_uri": "https://localhost:8080/",
          "height": 467
        },
        "id": "zSsMXLadJ-dQ",
        "outputId": "6beb2236-73f8-4703-b232-8221559761ff"
      },
      "source": [
        "base[0:10]"
      ],
      "execution_count": 159,
      "outputs": [
        {
          "output_type": "execute_result",
          "data": {
            "text/html": [
              "<div>\n",
              "<style scoped>\n",
              "    .dataframe tbody tr th:only-of-type {\n",
              "        vertical-align: middle;\n",
              "    }\n",
              "\n",
              "    .dataframe tbody tr th {\n",
              "        vertical-align: top;\n",
              "    }\n",
              "\n",
              "    .dataframe thead th {\n",
              "        text-align: right;\n",
              "    }\n",
              "</style>\n",
              "<table border=\"1\" class=\"dataframe\">\n",
              "  <thead>\n",
              "    <tr style=\"text-align: right;\">\n",
              "      <th></th>\n",
              "      <th>Idade</th>\n",
              "      <th>Tipo</th>\n",
              "      <th>Hospital</th>\n",
              "      <th>Procedimento Principal</th>\n",
              "      <th>CID</th>\n",
              "      <th>IMC</th>\n",
              "      <th>Dias Internado</th>\n",
              "    </tr>\n",
              "  </thead>\n",
              "  <tbody>\n",
              "    <tr>\n",
              "      <th>0</th>\n",
              "      <td>70</td>\n",
              "      <td>Eletivo</td>\n",
              "      <td>ITAIM</td>\n",
              "      <td>-</td>\n",
              "      <td>Z00 - Exame geral e investigacao de pessoas se...</td>\n",
              "      <td>24.9</td>\n",
              "      <td>X &lt; 5 dias</td>\n",
              "    </tr>\n",
              "    <tr>\n",
              "      <th>1</th>\n",
              "      <td>42</td>\n",
              "      <td>Eletivo</td>\n",
              "      <td>ITAIM</td>\n",
              "      <td>30733049 - Osteocondroplastia - estabilizacao ...</td>\n",
              "      <td>Z00 - Exame geral e investigacao de pessoas se...</td>\n",
              "      <td>42.3</td>\n",
              "      <td>X &lt; 5 dias</td>\n",
              "    </tr>\n",
              "    <tr>\n",
              "      <th>2</th>\n",
              "      <td>47</td>\n",
              "      <td>Eletivo</td>\n",
              "      <td>ITAIM</td>\n",
              "      <td>31102077 - Colocacao ureteroscopica de duplo J...</td>\n",
              "      <td>N99 - Transtornos do trato geniturinario pos-p...</td>\n",
              "      <td>22.0</td>\n",
              "      <td>X &lt; 5 dias</td>\n",
              "    </tr>\n",
              "    <tr>\n",
              "      <th>3</th>\n",
              "      <td>53</td>\n",
              "      <td>Eletivo</td>\n",
              "      <td>ITAIM</td>\n",
              "      <td>30602300 - Resseccao dos ductos principais da ...</td>\n",
              "      <td>Z48 - Outro seguimento cirurgico</td>\n",
              "      <td>24.2</td>\n",
              "      <td>X &lt; 5 dias</td>\n",
              "    </tr>\n",
              "    <tr>\n",
              "      <th>4</th>\n",
              "      <td>40</td>\n",
              "      <td>Urgencia</td>\n",
              "      <td>ITAIM</td>\n",
              "      <td>31309020 - Aspiracao manual intra-uterina (AMI...</td>\n",
              "      <td>O034 - Aborto espontaneo - incompleto  sem com...</td>\n",
              "      <td>26.3</td>\n",
              "      <td>X &lt; 5 dias</td>\n",
              "    </tr>\n",
              "    <tr>\n",
              "      <th>5</th>\n",
              "      <td>53</td>\n",
              "      <td>Eletivo</td>\n",
              "      <td>ITAIM</td>\n",
              "      <td>-</td>\n",
              "      <td>C920 - Leucemia mieloide aguda</td>\n",
              "      <td>23.1</td>\n",
              "      <td>X &gt; 5 dias</td>\n",
              "    </tr>\n",
              "    <tr>\n",
              "      <th>6</th>\n",
              "      <td>53</td>\n",
              "      <td>Urgencia</td>\n",
              "      <td>ITAIM</td>\n",
              "      <td>-</td>\n",
              "      <td>C920 - Leucemia mieloide aguda</td>\n",
              "      <td>23.1</td>\n",
              "      <td>X &gt; 5 dias</td>\n",
              "    </tr>\n",
              "    <tr>\n",
              "      <th>7</th>\n",
              "      <td>53</td>\n",
              "      <td>Urgencia</td>\n",
              "      <td>ITAIM</td>\n",
              "      <td>-</td>\n",
              "      <td>C92 - Leucemia mieloide</td>\n",
              "      <td>23.1</td>\n",
              "      <td>X &gt; 5 dias</td>\n",
              "    </tr>\n",
              "    <tr>\n",
              "      <th>8</th>\n",
              "      <td>53</td>\n",
              "      <td>Eletivo</td>\n",
              "      <td>ITAIM</td>\n",
              "      <td>-</td>\n",
              "      <td>C920 - Leucemia mieloide aguda</td>\n",
              "      <td>23.1</td>\n",
              "      <td>X &gt; 5 dias</td>\n",
              "    </tr>\n",
              "    <tr>\n",
              "      <th>9</th>\n",
              "      <td>68</td>\n",
              "      <td>Eletivo</td>\n",
              "      <td>ITAIM</td>\n",
              "      <td>40201120 - Endoscopia digestiva alta</td>\n",
              "      <td>Z000 - Exame medico geral</td>\n",
              "      <td>25.5</td>\n",
              "      <td>X &lt; 5 dias</td>\n",
              "    </tr>\n",
              "  </tbody>\n",
              "</table>\n",
              "</div>"
            ],
            "text/plain": [
              "   Idade      Tipo  ...   IMC Dias Internado\n",
              "0     70   Eletivo  ...  24.9     X < 5 dias\n",
              "1     42   Eletivo  ...  42.3     X < 5 dias\n",
              "2     47   Eletivo  ...  22.0     X < 5 dias\n",
              "3     53   Eletivo  ...  24.2     X < 5 dias\n",
              "4     40  Urgencia  ...  26.3     X < 5 dias\n",
              "5     53   Eletivo  ...  23.1     X > 5 dias\n",
              "6     53  Urgencia  ...  23.1     X > 5 dias\n",
              "7     53  Urgencia  ...  23.1     X > 5 dias\n",
              "8     53   Eletivo  ...  23.1     X > 5 dias\n",
              "9     68   Eletivo  ...  25.5     X < 5 dias\n",
              "\n",
              "[10 rows x 7 columns]"
            ]
          },
          "metadata": {},
          "execution_count": 159
        }
      ]
    },
    {
      "cell_type": "code",
      "metadata": {
        "colab": {
          "base_uri": "https://localhost:8080/"
        },
        "id": "rEsmGLqsFqD3",
        "outputId": "db69c862-b230-4e43-97be-9c00509e46c6"
      },
      "source": [
        "X[1]"
      ],
      "execution_count": 171,
      "outputs": [
        {
          "output_type": "execute_result",
          "data": {
            "text/plain": [
              "array([42, 0, 0, 39, 154, 42.3], dtype=object)"
            ]
          },
          "metadata": {},
          "execution_count": 171
        }
      ]
    },
    {
      "cell_type": "code",
      "metadata": {
        "id": "yDy0fhDeIjW0"
      },
      "source": [
        "import numpy as np"
      ],
      "execution_count": 172,
      "outputs": []
    },
    {
      "cell_type": "code",
      "metadata": {
        "id": "nvve0IKvInUo"
      },
      "source": [
        "X_teste_2 = np.array([42, 0, 0, 39, 154, 42.3], dtype=object)"
      ],
      "execution_count": 174,
      "outputs": []
    },
    {
      "cell_type": "code",
      "metadata": {
        "colab": {
          "base_uri": "https://localhost:8080/"
        },
        "id": "UC1T5BI4IsYc",
        "outputId": "9c6c0503-720c-4a95-f84e-b34494f92db9"
      },
      "source": [
        "X_teste_2"
      ],
      "execution_count": 175,
      "outputs": [
        {
          "output_type": "execute_result",
          "data": {
            "text/plain": [
              "array([42, 0, 0, 39, 154, 42.3], dtype=object)"
            ]
          },
          "metadata": {},
          "execution_count": 175
        }
      ]
    },
    {
      "cell_type": "code",
      "metadata": {
        "id": "c-vLIKz3LX20"
      },
      "source": [
        "temp = X_teste_2.reshape(1, -1)"
      ],
      "execution_count": 176,
      "outputs": []
    },
    {
      "cell_type": "code",
      "metadata": {
        "colab": {
          "base_uri": "https://localhost:8080/"
        },
        "id": "xRseQ8IxOdPQ",
        "outputId": "b7395064-4460-4969-dbd9-810d3128c2ec"
      },
      "source": [
        "temp"
      ],
      "execution_count": 177,
      "outputs": [
        {
          "output_type": "execute_result",
          "data": {
            "text/plain": [
              "array([[42, 0, 0, 39, 154, 42.3]], dtype=object)"
            ]
          },
          "metadata": {},
          "execution_count": 177
        }
      ]
    },
    {
      "cell_type": "code",
      "metadata": {
        "colab": {
          "base_uri": "https://localhost:8080/"
        },
        "id": "yVjj4fsyLGum",
        "outputId": "12639428-5f9a-4791-c917-0a420419f0c2"
      },
      "source": [
        "temp.shape"
      ],
      "execution_count": 178,
      "outputs": [
        {
          "output_type": "execute_result",
          "data": {
            "text/plain": [
              "(1, 6)"
            ]
          },
          "metadata": {},
          "execution_count": 178
        }
      ]
    },
    {
      "cell_type": "code",
      "metadata": {
        "id": "NOj_JKoTKWPt"
      },
      "source": [
        "previsoes_2 = classificador.predict(temp)"
      ],
      "execution_count": 179,
      "outputs": []
    },
    {
      "cell_type": "code",
      "metadata": {
        "colab": {
          "base_uri": "https://localhost:8080/"
        },
        "id": "T6Ax6Bv9LzS2",
        "outputId": "2f39e002-f1d5-42e4-c93e-ef858b909d34"
      },
      "source": [
        "previsoes_2"
      ],
      "execution_count": 181,
      "outputs": [
        {
          "output_type": "execute_result",
          "data": {
            "text/plain": [
              "array(['X < 5 dias'], dtype=object)"
            ]
          },
          "metadata": {},
          "execution_count": 181
        }
      ]
    }
  ]
}